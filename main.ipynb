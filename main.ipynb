{
 "cells": [
  {
   "cell_type": "code",
   "execution_count": 1,
   "metadata": {},
   "outputs": [],
   "source": [
    "import numpy as np\n",
    "import tensorflow as tf\n",
    "from source.vq_vae import VQ_VAE"
   ]
  },
  {
   "cell_type": "code",
   "execution_count": 2,
   "metadata": {},
   "outputs": [],
   "source": [
    "vq_vae = VQ_VAE(\n",
    "    input_shape=(256, 256, 3),\n",
    "    embed_dim=8,\n",
    "    num_vectors=128,\n",
    "    initial_dim=64,\n",
    "    depths=[2, 2, 2, 3],\n",
    "    name=\"VQ_VAE\",\n",
    ")\n"
   ]
  },
  {
   "cell_type": "code",
   "execution_count": 3,
   "metadata": {},
   "outputs": [],
   "source": [
    "vq_vae.build(input_shape=(None, 256, 256, 3))"
   ]
  },
  {
   "cell_type": "code",
   "execution_count": 4,
   "metadata": {},
   "outputs": [
    {
     "name": "stdout",
     "output_type": "stream",
     "text": [
      "Model: \"VQ_VAE\"\n",
      "_________________________________________________________________\n",
      " Layer (type)                Output Shape              Param #   \n",
      "=================================================================\n",
      " Encoder (Functional)        (None, 32, 32, 8)         16705040  \n",
      "                                                                 \n",
      " vector_quantizer (VectorQua  multiple                 1024      \n",
      " ntizationLayer)                                                 \n",
      "                                                                 \n",
      " Decoder (Functional)        (None, 256, 256, 3)       15896027  \n",
      "                                                                 \n",
      "=================================================================\n",
      "Total params: 32,602,091\n",
      "Trainable params: 32,602,091\n",
      "Non-trainable params: 0\n",
      "_________________________________________________________________\n"
     ]
    }
   ],
   "source": [
    "vq_vae.summary()"
   ]
  }
 ],
 "metadata": {
  "kernelspec": {
   "display_name": "tf",
   "language": "python",
   "name": "python3"
  },
  "language_info": {
   "codemirror_mode": {
    "name": "ipython",
    "version": 3
   },
   "file_extension": ".py",
   "mimetype": "text/x-python",
   "name": "python",
   "nbconvert_exporter": "python",
   "pygments_lexer": "ipython3",
   "version": "3.9.16"
  },
  "orig_nbformat": 4
 },
 "nbformat": 4,
 "nbformat_minor": 2
}
